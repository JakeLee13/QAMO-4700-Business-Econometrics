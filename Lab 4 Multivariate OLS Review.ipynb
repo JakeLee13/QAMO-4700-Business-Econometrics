{
 "cells": [
  {
   "cell_type": "markdown",
   "id": "09441101",
   "metadata": {},
   "source": [
    "# Lab 4: Multivariate OLS Review\n",
    "### Jake Lee"
   ]
  },
  {
   "cell_type": "code",
   "execution_count": 1,
   "id": "f63c7404",
   "metadata": {},
   "outputs": [],
   "source": [
    "import numpy as np\n",
    "import pandas as pd\n",
    "from scipy import stats\n",
    "import matplotlib.pyplot as plt\n",
    "import statsmodels.api as sm\n",
    "import math\n",
    "%matplotlib inline"
   ]
  },
  {
   "cell_type": "code",
   "execution_count": 2,
   "id": "eeceb2bf",
   "metadata": {
    "scrolled": true
   },
   "outputs": [
    {
     "data": {
      "text/html": [
       "<div>\n",
       "<style scoped>\n",
       "    .dataframe tbody tr th:only-of-type {\n",
       "        vertical-align: middle;\n",
       "    }\n",
       "\n",
       "    .dataframe tbody tr th {\n",
       "        vertical-align: top;\n",
       "    }\n",
       "\n",
       "    .dataframe thead th {\n",
       "        text-align: right;\n",
       "    }\n",
       "</style>\n",
       "<table border=\"1\" class=\"dataframe\">\n",
       "  <thead>\n",
       "    <tr style=\"text-align: right;\">\n",
       "      <th></th>\n",
       "      <th>emplid</th>\n",
       "      <th>year</th>\n",
       "      <th>quarter</th>\n",
       "      <th>sex</th>\n",
       "      <th>educ</th>\n",
       "      <th>age</th>\n",
       "      <th>pay</th>\n",
       "      <th>apt</th>\n",
       "      <th>prod</th>\n",
       "      <th>turn</th>\n",
       "      <th>title</th>\n",
       "      <th>tenure</th>\n",
       "    </tr>\n",
       "  </thead>\n",
       "  <tbody>\n",
       "    <tr>\n",
       "      <th>0</th>\n",
       "      <td>1.0</td>\n",
       "      <td>2018.0</td>\n",
       "      <td>1.0</td>\n",
       "      <td>female</td>\n",
       "      <td>4.0</td>\n",
       "      <td>30.0</td>\n",
       "      <td>18.57</td>\n",
       "      <td>18.0</td>\n",
       "      <td>50.500000</td>\n",
       "      <td>0.0</td>\n",
       "      <td>associate</td>\n",
       "      <td>4.0</td>\n",
       "    </tr>\n",
       "    <tr>\n",
       "      <th>1</th>\n",
       "      <td>1.0</td>\n",
       "      <td>2018.0</td>\n",
       "      <td>2.0</td>\n",
       "      <td>female</td>\n",
       "      <td>4.0</td>\n",
       "      <td>31.0</td>\n",
       "      <td>18.57</td>\n",
       "      <td>17.0</td>\n",
       "      <td>49.299999</td>\n",
       "      <td>0.0</td>\n",
       "      <td>associate</td>\n",
       "      <td>7.0</td>\n",
       "    </tr>\n",
       "    <tr>\n",
       "      <th>2</th>\n",
       "      <td>1.0</td>\n",
       "      <td>2018.0</td>\n",
       "      <td>3.0</td>\n",
       "      <td>female</td>\n",
       "      <td>4.0</td>\n",
       "      <td>31.0</td>\n",
       "      <td>18.57</td>\n",
       "      <td>14.0</td>\n",
       "      <td>49.900002</td>\n",
       "      <td>0.0</td>\n",
       "      <td>associate</td>\n",
       "      <td>10.0</td>\n",
       "    </tr>\n",
       "    <tr>\n",
       "      <th>3</th>\n",
       "      <td>1.0</td>\n",
       "      <td>2018.0</td>\n",
       "      <td>4.0</td>\n",
       "      <td>female</td>\n",
       "      <td>4.0</td>\n",
       "      <td>31.0</td>\n",
       "      <td>18.57</td>\n",
       "      <td>16.0</td>\n",
       "      <td>54.099998</td>\n",
       "      <td>0.0</td>\n",
       "      <td>associate</td>\n",
       "      <td>13.0</td>\n",
       "    </tr>\n",
       "    <tr>\n",
       "      <th>4</th>\n",
       "      <td>1.0</td>\n",
       "      <td>2019.0</td>\n",
       "      <td>1.0</td>\n",
       "      <td>female</td>\n",
       "      <td>4.0</td>\n",
       "      <td>31.0</td>\n",
       "      <td>18.57</td>\n",
       "      <td>21.0</td>\n",
       "      <td>55.700001</td>\n",
       "      <td>0.0</td>\n",
       "      <td>associate</td>\n",
       "      <td>16.0</td>\n",
       "    </tr>\n",
       "  </tbody>\n",
       "</table>\n",
       "</div>"
      ],
      "text/plain": [
       "   emplid    year  quarter     sex  educ   age    pay   apt       prod  turn  \\\n",
       "0     1.0  2018.0      1.0  female   4.0  30.0  18.57  18.0  50.500000   0.0   \n",
       "1     1.0  2018.0      2.0  female   4.0  31.0  18.57  17.0  49.299999   0.0   \n",
       "2     1.0  2018.0      3.0  female   4.0  31.0  18.57  14.0  49.900002   0.0   \n",
       "3     1.0  2018.0      4.0  female   4.0  31.0  18.57  16.0  54.099998   0.0   \n",
       "4     1.0  2019.0      1.0  female   4.0  31.0  18.57  21.0  55.700001   0.0   \n",
       "\n",
       "       title  tenure  \n",
       "0  associate     4.0  \n",
       "1  associate     7.0  \n",
       "2  associate    10.0  \n",
       "3  associate    13.0  \n",
       "4  associate    16.0  "
      ]
     },
     "execution_count": 2,
     "metadata": {},
     "output_type": "execute_result"
    }
   ],
   "source": [
    "data = 'ARC.dta'\n",
    "df = pd.read_stata(data)\n",
    "df.head()"
   ]
  },
  {
   "cell_type": "markdown",
   "id": "d0a60401",
   "metadata": {},
   "source": [
    "# Part 1\n",
    "We have been exploring the relationship between experience on the job (`tenure`) and\n",
    "employee productivity (`prod`). Now, let’s re-familiarize ourselves with the concept of omitted\n",
    "variable bias"
   ]
  },
  {
   "cell_type": "markdown",
   "id": "f5392581",
   "metadata": {},
   "source": [
    "# 3. \n",
    "Omitted variable bias is caused by something in the error term that both is correlated\n",
    "with X and impacts Y. In our regression of pay on productivity, let’s consider the\n",
    "omitted variable `tenure`.\n",
    "\n",
    "\n",
    "(a) What do you think the sign of the correlation is between prod and tenure? \n",
    "\n",
    "Positive\n",
    "\n",
    "\n",
    "(b) What do you think the sign of the impact of tenure is on pay?\n",
    "\n",
    "Positive \n",
    "\n",
    "\n",
    "(c) Combining these, what do you predict the sign of the omitted variable bias will\n",
    "be?\n",
    "\n",
    "Positive\n",
    "\n",
    "\n",
    "(d) If you control for tenure, what should happen to your estimate of the effect of\n",
    "pay on productivity?\n",
    "\n",
    "More accurate"
   ]
  },
  {
   "cell_type": "markdown",
   "id": "e311b3bc",
   "metadata": {},
   "source": [
    "# 4. \n",
    "Write down the multivariate OLS model that predicts pay based on productivity and\n",
    "tenure.\n",
    "\n",
    "$ pay = \\beta_0 + \\beta_1 (prod) + \\beta_2 (tenure)$"
   ]
  },
  {
   "cell_type": "markdown",
   "id": "dde296b4",
   "metadata": {},
   "source": [
    "# 5.\n",
    "Estimate a multivariate regression of pay on productivity and tenure."
   ]
  },
  {
   "cell_type": "code",
   "execution_count": 3,
   "id": "9c9a5d03",
   "metadata": {},
   "outputs": [
    {
     "name": "stdout",
     "output_type": "stream",
     "text": [
      "4.96881499550993\n"
     ]
    },
    {
     "data": {
      "text/html": [
       "<table class=\"simpletable\">\n",
       "<caption>OLS Regression Results</caption>\n",
       "<tr>\n",
       "  <th>Dep. Variable:</th>           <td>pay</td>       <th>  R-squared:         </th> <td>   0.169</td> \n",
       "</tr>\n",
       "<tr>\n",
       "  <th>Model:</th>                   <td>OLS</td>       <th>  Adj. R-squared:    </th> <td>   0.169</td> \n",
       "</tr>\n",
       "<tr>\n",
       "  <th>Method:</th>             <td>Least Squares</td>  <th>  F-statistic:       </th> <td>   615.9</td> \n",
       "</tr>\n",
       "<tr>\n",
       "  <th>Date:</th>             <td>Tue, 06 Feb 2024</td> <th>  Prob (F-statistic):</th> <td>4.69e-244</td>\n",
       "</tr>\n",
       "<tr>\n",
       "  <th>Time:</th>                 <td>15:35:16</td>     <th>  Log-Likelihood:    </th> <td> -12796.</td> \n",
       "</tr>\n",
       "<tr>\n",
       "  <th>No. Observations:</th>      <td>  6014</td>      <th>  AIC:               </th> <td>2.560e+04</td>\n",
       "</tr>\n",
       "<tr>\n",
       "  <th>Df Residuals:</th>          <td>  6011</td>      <th>  BIC:               </th> <td>2.562e+04</td>\n",
       "</tr>\n",
       "<tr>\n",
       "  <th>Df Model:</th>              <td>     2</td>      <th>                     </th>     <td> </td>    \n",
       "</tr>\n",
       "<tr>\n",
       "  <th>Covariance Type:</th>         <td>HC3</td>       <th>                     </th>     <td> </td>    \n",
       "</tr>\n",
       "</table>\n",
       "<table class=\"simpletable\">\n",
       "<tr>\n",
       "     <td></td>       <th>coef</th>     <th>std err</th>      <th>z</th>      <th>P>|z|</th>  <th>[0.025</th>    <th>0.975]</th>  \n",
       "</tr>\n",
       "<tr>\n",
       "  <th>const</th>  <td>   15.7622</td> <td>    0.147</td> <td>  107.454</td> <td> 0.000</td> <td>   15.475</td> <td>   16.050</td>\n",
       "</tr>\n",
       "<tr>\n",
       "  <th>prod</th>   <td>    0.0196</td> <td>    0.003</td> <td>    7.633</td> <td> 0.000</td> <td>    0.015</td> <td>    0.025</td>\n",
       "</tr>\n",
       "<tr>\n",
       "  <th>tenure</th> <td>    0.0279</td> <td>    0.001</td> <td>   28.240</td> <td> 0.000</td> <td>    0.026</td> <td>    0.030</td>\n",
       "</tr>\n",
       "</table>\n",
       "<table class=\"simpletable\">\n",
       "<tr>\n",
       "  <th>Omnibus:</th>       <td>284.930</td> <th>  Durbin-Watson:     </th> <td>   0.168</td>\n",
       "</tr>\n",
       "<tr>\n",
       "  <th>Prob(Omnibus):</th> <td> 0.000</td>  <th>  Jarque-Bera (JB):  </th> <td> 303.957</td>\n",
       "</tr>\n",
       "<tr>\n",
       "  <th>Skew:</th>          <td> 0.525</td>  <th>  Prob(JB):          </th> <td>9.92e-67</td>\n",
       "</tr>\n",
       "<tr>\n",
       "  <th>Kurtosis:</th>      <td> 2.670</td>  <th>  Cond. No.          </th> <td>    430.</td>\n",
       "</tr>\n",
       "</table><br/><br/>Notes:<br/>[1] Standard Errors are heteroscedasticity robust (HC3)"
      ],
      "text/plain": [
       "<class 'statsmodels.iolib.summary.Summary'>\n",
       "\"\"\"\n",
       "                            OLS Regression Results                            \n",
       "==============================================================================\n",
       "Dep. Variable:                    pay   R-squared:                       0.169\n",
       "Model:                            OLS   Adj. R-squared:                  0.169\n",
       "Method:                 Least Squares   F-statistic:                     615.9\n",
       "Date:                Tue, 06 Feb 2024   Prob (F-statistic):          4.69e-244\n",
       "Time:                        15:35:16   Log-Likelihood:                -12796.\n",
       "No. Observations:                6014   AIC:                         2.560e+04\n",
       "Df Residuals:                    6011   BIC:                         2.562e+04\n",
       "Df Model:                           2                                         \n",
       "Covariance Type:                  HC3                                         \n",
       "==============================================================================\n",
       "                 coef    std err          z      P>|z|      [0.025      0.975]\n",
       "------------------------------------------------------------------------------\n",
       "const         15.7622      0.147    107.454      0.000      15.475      16.050\n",
       "prod           0.0196      0.003      7.633      0.000       0.015       0.025\n",
       "tenure         0.0279      0.001     28.240      0.000       0.026       0.030\n",
       "==============================================================================\n",
       "Omnibus:                      284.930   Durbin-Watson:                   0.168\n",
       "Prob(Omnibus):                  0.000   Jarque-Bera (JB):              303.957\n",
       "Skew:                           0.525   Prob(JB):                     9.92e-67\n",
       "Kurtosis:                       2.670   Cond. No.                         430.\n",
       "==============================================================================\n",
       "\n",
       "Notes:\n",
       "[1] Standard Errors are heteroscedasticity robust (HC3)\n",
       "\"\"\""
      ]
     },
     "execution_count": 3,
     "metadata": {},
     "output_type": "execute_result"
    }
   ],
   "source": [
    "X = df[['prod', 'tenure']]\n",
    "y = df['pay']\n",
    "\n",
    "X = sm.add_constant(X)\n",
    "\n",
    "model = sm.OLS(y,X)\n",
    "results = model.fit(cov_type='HC3') # robust\n",
    "\n",
    "print(results.mse_total)\n",
    "\n",
    "results.summary()"
   ]
  },
  {
   "cell_type": "markdown",
   "id": "248b1dd5",
   "metadata": {},
   "source": [
    "Recall: \n",
    "\n",
    "standard error (SE): quantifies the uncertainty in an estimate. The standard error of the coefficient estimates measures how much the estimated coefficients vary from the true population coefficients due to random sampling variability.\n",
    "\n",
    "heteroscedasticity: unequal variability in the errors/residuals across levels of the independent variables\n",
    "\n",
    "residual: difference between the observed value of y and the predicted value of y from the regression model."
   ]
  },
  {
   "cell_type": "markdown",
   "id": "5774d962",
   "metadata": {},
   "source": [
    "# 7. \n",
    "Interpret your results\n",
    "\n",
    "(a) What is the interpretation of ˆβ0?\n",
    "\n",
    "^B_0 is the estimated average pay when all other independent variables are set to zero, i.e. minimum wage in this case = 15.76\n",
    "\n",
    "(b) What is the interpretation of ˆβ1?\n",
    "\n",
    "A one unit increase in `prod` is estimated to have a ^B_1 = \\$0.003 increase in `pay` on average, assuming ceterus paribus.\n",
    "\n",
    "(c) What is the interpretation of ˆβ2?\n",
    "\n",
    "A one year increase in `tenure` is estimated to have a ^B_2 = \\$0.001 increase in `pay` on average, assuming ceterus paribus.\n",
    "\n",
    "\n",
    "(d) Can you reject the two-sided null hypothesis that there is no effect of `tenure` on\n",
    "`pay` at the 5% level, holding `prod` constant?\n",
    "\n",
    "Holding `prod` constant, and assuming H_0 is true, the p-value (in this case z value bc sample is large enough for Z test) rep.'s the probability of observing a coefficient more or as extreme as the one we got in our sample of workers. \n",
    "\n",
    "From the output we can see that this probability is 0.000, thus we can reject H_0 and conclude that `tenure` does in fact have a statistically significant effect on `pay`.\n",
    "\n",
    "(e) Can you reject the two-sided null hypothesis that there is no effect of productivity on pay at the 5% level, holding tenure constant?\n",
    "\n",
    "Yes - same logic as (d)\n",
    "\n"
   ]
  },
  {
   "cell_type": "markdown",
   "id": "1486feef",
   "metadata": {},
   "source": [
    "# 8.\n",
    "Can you reject a null hypothesis that there is no difference between the effect that\n",
    "tenure has on pay and the effect that productivity has on pay at the 5% level"
   ]
  },
  {
   "cell_type": "code",
   "execution_count": 4,
   "id": "ea904bb2",
   "metadata": {
    "scrolled": true
   },
   "outputs": [
    {
     "data": {
      "text/plain": [
       "<class 'statsmodels.stats.contrast.ContrastResults'>\n",
       "                             Test for Constraints                             \n",
       "==============================================================================\n",
       "                 coef    std err          z      P>|z|      [0.025      0.975]\n",
       "------------------------------------------------------------------------------\n",
       "c0             0.0084      0.003      2.703      0.007       0.002       0.014\n",
       "=============================================================================="
      ]
     },
     "execution_count": 4,
     "metadata": {},
     "output_type": "execute_result"
    }
   ],
   "source": [
    "H_0 = 'tenure = prod'\n",
    "\n",
    "results.t_test(H_0)"
   ]
  },
  {
   "cell_type": "markdown",
   "id": "ae370b58",
   "metadata": {},
   "source": [
    "From above results, we can reject the null hypothesis at 5% level and conclude that there is a statistically significant difference between `tenure` and `prod`.\n",
    "\n",
    "In other words: The coefficients for tenure and prod are not equal in their impact on the dependent variable pay. This means (as expected) that changes in tenure and prod are associated with different changes in the dependent variable, holding other variables constant."
   ]
  },
  {
   "cell_type": "markdown",
   "id": "da40bf1b",
   "metadata": {},
   "source": [
    "# 9.\n",
    "Can you reject the null hypothesis that productivity and tenure jointly have no effect\n",
    "on pay at the 5% level? \n",
    "\n",
    "(the results from this\n",
    "test are reported in the F statistic and the p-value in the upper right-hand corner of\n",
    "your output.)\n"
   ]
  },
  {
   "cell_type": "markdown",
   "id": "44ef11c1",
   "metadata": {},
   "source": [
    "Yes, both from deductive reasoning and the probability of the F-statistic being extremely low"
   ]
  },
  {
   "cell_type": "markdown",
   "id": "28ff8bbf",
   "metadata": {},
   "source": [
    "# Part 2\n",
    "# 1. \n",
    "Generate a dummy var for female employees (1 if female, 0 if male)"
   ]
  },
  {
   "cell_type": "code",
   "execution_count": 5,
   "id": "87c23942",
   "metadata": {},
   "outputs": [
    {
     "data": {
      "text/plain": [
       "0    0.55\n",
       "1    0.45\n",
       "Name: female, dtype: float64"
      ]
     },
     "execution_count": 5,
     "metadata": {},
     "output_type": "execute_result"
    }
   ],
   "source": [
    "df['female'] = df['sex'].apply(lambda sex: 1 if sex == 'female' else 0)\n",
    "df['female'].value_counts(normalize=True).round(2)"
   ]
  },
  {
   "cell_type": "markdown",
   "id": "bd807669",
   "metadata": {},
   "source": [
    "# 2.\n",
    "Generate an interaction term between your female dummy variable and productivity:"
   ]
  },
  {
   "cell_type": "code",
   "execution_count": 8,
   "id": "8248de89",
   "metadata": {},
   "outputs": [
    {
     "data": {
      "text/plain": [
       "0       50.500000\n",
       "1       49.299999\n",
       "2       49.900002\n",
       "3       54.099998\n",
       "4       55.700001\n",
       "          ...    \n",
       "6009     0.000000\n",
       "6010    51.599998\n",
       "6011    50.200001\n",
       "6012    53.099998\n",
       "6013    54.000000\n",
       "Name: female_prod, Length: 6014, dtype: float64"
      ]
     },
     "execution_count": 8,
     "metadata": {},
     "output_type": "execute_result"
    }
   ],
   "source": [
    "df['female'] = df['female'].astype(int)\n",
    "df['female_prod'] = df['female'] * df['prod']\n",
    "\n",
    "df['female_prod']"
   ]
  },
  {
   "cell_type": "markdown",
   "id": "c8a9a922",
   "metadata": {},
   "source": [
    "# 3. \n",
    "Run a multivariate regression that tests for whether or not productivity has a differential effect on pay for men and women.\n",
    "\n",
    "In other words, does the relationship between prod and pay differ depending on the gender of the individuals?"
   ]
  },
  {
   "cell_type": "code",
   "execution_count": 12,
   "id": "297cfa4f",
   "metadata": {},
   "outputs": [
    {
     "data": {
      "text/html": [
       "<table class=\"simpletable\">\n",
       "<caption>OLS Regression Results</caption>\n",
       "<tr>\n",
       "  <th>Dep. Variable:</th>           <td>pay</td>       <th>  R-squared:         </th> <td>   0.066</td> \n",
       "</tr>\n",
       "<tr>\n",
       "  <th>Model:</th>                   <td>OLS</td>       <th>  Adj. R-squared:    </th> <td>   0.065</td> \n",
       "</tr>\n",
       "<tr>\n",
       "  <th>Method:</th>             <td>Least Squares</td>  <th>  F-statistic:       </th> <td>   149.3</td> \n",
       "</tr>\n",
       "<tr>\n",
       "  <th>Date:</th>             <td>Tue, 06 Feb 2024</td> <th>  Prob (F-statistic):</th> <td>2.51e-93</td> \n",
       "</tr>\n",
       "<tr>\n",
       "  <th>Time:</th>                 <td>15:53:55</td>     <th>  Log-Likelihood:    </th> <td> -13149.</td> \n",
       "</tr>\n",
       "<tr>\n",
       "  <th>No. Observations:</th>      <td>  6014</td>      <th>  AIC:               </th> <td>2.631e+04</td>\n",
       "</tr>\n",
       "<tr>\n",
       "  <th>Df Residuals:</th>          <td>  6010</td>      <th>  BIC:               </th> <td>2.633e+04</td>\n",
       "</tr>\n",
       "<tr>\n",
       "  <th>Df Model:</th>              <td>     3</td>      <th>                     </th>     <td> </td>    \n",
       "</tr>\n",
       "<tr>\n",
       "  <th>Covariance Type:</th>         <td>HC3</td>       <th>                     </th>     <td> </td>    \n",
       "</tr>\n",
       "</table>\n",
       "<table class=\"simpletable\">\n",
       "<tr>\n",
       "       <td></td>          <th>coef</th>     <th>std err</th>      <th>z</th>      <th>P>|z|</th>  <th>[0.025</th>    <th>0.975]</th>  \n",
       "</tr>\n",
       "<tr>\n",
       "  <th>const</th>       <td>   15.6396</td> <td>    0.225</td> <td>   69.451</td> <td> 0.000</td> <td>   15.198</td> <td>   16.081</td>\n",
       "</tr>\n",
       "<tr>\n",
       "  <th>prod</th>        <td>    0.0411</td> <td>    0.004</td> <td>   11.705</td> <td> 0.000</td> <td>    0.034</td> <td>    0.048</td>\n",
       "</tr>\n",
       "<tr>\n",
       "  <th>female</th>      <td>   -1.0813</td> <td>    0.306</td> <td>   -3.538</td> <td> 0.000</td> <td>   -1.680</td> <td>   -0.482</td>\n",
       "</tr>\n",
       "<tr>\n",
       "  <th>female_prod</th> <td>    0.0148</td> <td>    0.005</td> <td>    3.012</td> <td> 0.003</td> <td>    0.005</td> <td>    0.024</td>\n",
       "</tr>\n",
       "</table>\n",
       "<table class=\"simpletable\">\n",
       "<tr>\n",
       "  <th>Omnibus:</th>       <td>335.066</td> <th>  Durbin-Watson:     </th> <td>   0.166</td>\n",
       "</tr>\n",
       "<tr>\n",
       "  <th>Prob(Omnibus):</th> <td> 0.000</td>  <th>  Jarque-Bera (JB):  </th> <td> 214.857</td>\n",
       "</tr>\n",
       "<tr>\n",
       "  <th>Skew:</th>          <td> 0.339</td>  <th>  Prob(JB):          </th> <td>2.21e-47</td>\n",
       "</tr>\n",
       "<tr>\n",
       "  <th>Kurtosis:</th>      <td> 2.369</td>  <th>  Cond. No.          </th> <td>    884.</td>\n",
       "</tr>\n",
       "</table><br/><br/>Notes:<br/>[1] Standard Errors are heteroscedasticity robust (HC3)"
      ],
      "text/plain": [
       "<class 'statsmodels.iolib.summary.Summary'>\n",
       "\"\"\"\n",
       "                            OLS Regression Results                            \n",
       "==============================================================================\n",
       "Dep. Variable:                    pay   R-squared:                       0.066\n",
       "Model:                            OLS   Adj. R-squared:                  0.065\n",
       "Method:                 Least Squares   F-statistic:                     149.3\n",
       "Date:                Tue, 06 Feb 2024   Prob (F-statistic):           2.51e-93\n",
       "Time:                        15:53:55   Log-Likelihood:                -13149.\n",
       "No. Observations:                6014   AIC:                         2.631e+04\n",
       "Df Residuals:                    6010   BIC:                         2.633e+04\n",
       "Df Model:                           3                                         \n",
       "Covariance Type:                  HC3                                         \n",
       "===============================================================================\n",
       "                  coef    std err          z      P>|z|      [0.025      0.975]\n",
       "-------------------------------------------------------------------------------\n",
       "const          15.6396      0.225     69.451      0.000      15.198      16.081\n",
       "prod            0.0411      0.004     11.705      0.000       0.034       0.048\n",
       "female         -1.0813      0.306     -3.538      0.000      -1.680      -0.482\n",
       "female_prod     0.0148      0.005      3.012      0.003       0.005       0.024\n",
       "==============================================================================\n",
       "Omnibus:                      335.066   Durbin-Watson:                   0.166\n",
       "Prob(Omnibus):                  0.000   Jarque-Bera (JB):              214.857\n",
       "Skew:                           0.339   Prob(JB):                     2.21e-47\n",
       "Kurtosis:                       2.369   Cond. No.                         884.\n",
       "==============================================================================\n",
       "\n",
       "Notes:\n",
       "[1] Standard Errors are heteroscedasticity robust (HC3)\n",
       "\"\"\""
      ]
     },
     "execution_count": 12,
     "metadata": {},
     "output_type": "execute_result"
    }
   ],
   "source": [
    "X = df[['prod', 'female', 'female_prod']]\n",
    "y = df['pay']\n",
    "\n",
    "X = sm.add_constant(X)\n",
    "\n",
    "model = sm.OLS(y,X)\n",
    "results = model.fit(cov_type='HC3') # robust\n",
    "\n",
    "results.summary()"
   ]
  },
  {
   "cell_type": "markdown",
   "id": "f304c9c7",
   "metadata": {},
   "source": [
    "  (b) What is the interpretation of the coefficient on productivity?\n",
    "\n",
    "A one unit increase in productivity is estimated to have a \\$0.04 increase in pay on average, assuming ceterus paribus.\n",
    "\n",
    "(c) What is the interpretation of the coefficient on female?\n",
    "\n",
    "Being female is estimated to have a \\$1.08 decrease in pay on average, assuming ceterus paribus.\n",
    "\n",
    "(d) What is the interpretation of the coefficient on the interaction term?\n",
    "\n",
    "The coefficient is positive, suggesting that the effect of productivity on pay increases for women compared to men.\n",
    "\n",
    "(e) Can you reject the two-sided null hypothesis that there is no additional effect of productivity on pay for women at the 5% level?\n",
    "\n",
    "Yes, we can reject the null hypothesis and conclude that there is a statistically significant additional effect of prod on pay for women. It implies that the effect of productivity on pay is stronger for women compared to men. This could suggest that productivity is more strongly rewarded or valued in the pay structure for women compared to men."
   ]
  },
  {
   "cell_type": "markdown",
   "id": "9a8981e7",
   "metadata": {},
   "source": [
    "# 4.\n",
    "Run a multivariate regression that tests for whether or not productivity has a differential effect on pay for men and women, controlling for tenure."
   ]
  },
  {
   "cell_type": "code",
   "execution_count": 13,
   "id": "b5581655",
   "metadata": {},
   "outputs": [
    {
     "data": {
      "text/html": [
       "<table class=\"simpletable\">\n",
       "<caption>OLS Regression Results</caption>\n",
       "<tr>\n",
       "  <th>Dep. Variable:</th>           <td>pay</td>       <th>  R-squared:         </th> <td>   0.175</td> \n",
       "</tr>\n",
       "<tr>\n",
       "  <th>Model:</th>                   <td>OLS</td>       <th>  Adj. R-squared:    </th> <td>   0.175</td> \n",
       "</tr>\n",
       "<tr>\n",
       "  <th>Method:</th>             <td>Least Squares</td>  <th>  F-statistic:       </th> <td>   329.5</td> \n",
       "</tr>\n",
       "<tr>\n",
       "  <th>Date:</th>             <td>Tue, 06 Feb 2024</td> <th>  Prob (F-statistic):</th> <td>9.82e-257</td>\n",
       "</tr>\n",
       "<tr>\n",
       "  <th>Time:</th>                 <td>15:54:20</td>     <th>  Log-Likelihood:    </th> <td> -12774.</td> \n",
       "</tr>\n",
       "<tr>\n",
       "  <th>No. Observations:</th>      <td>  6014</td>      <th>  AIC:               </th> <td>2.556e+04</td>\n",
       "</tr>\n",
       "<tr>\n",
       "  <th>Df Residuals:</th>          <td>  6009</td>      <th>  BIC:               </th> <td>2.559e+04</td>\n",
       "</tr>\n",
       "<tr>\n",
       "  <th>Df Model:</th>              <td>     4</td>      <th>                     </th>     <td> </td>    \n",
       "</tr>\n",
       "<tr>\n",
       "  <th>Covariance Type:</th>         <td>HC3</td>       <th>                     </th>     <td> </td>    \n",
       "</tr>\n",
       "</table>\n",
       "<table class=\"simpletable\">\n",
       "<tr>\n",
       "       <td></td>          <th>coef</th>     <th>std err</th>      <th>z</th>      <th>P>|z|</th>  <th>[0.025</th>    <th>0.975]</th>  \n",
       "</tr>\n",
       "<tr>\n",
       "  <th>const</th>       <td>   16.3008</td> <td>    0.212</td> <td>   76.884</td> <td> 0.000</td> <td>   15.885</td> <td>   16.716</td>\n",
       "</tr>\n",
       "<tr>\n",
       "  <th>prod</th>        <td>    0.0130</td> <td>    0.003</td> <td>    3.799</td> <td> 0.000</td> <td>    0.006</td> <td>    0.020</td>\n",
       "</tr>\n",
       "<tr>\n",
       "  <th>female</th>      <td>   -0.7211</td> <td>    0.293</td> <td>   -2.458</td> <td> 0.014</td> <td>   -1.296</td> <td>   -0.146</td>\n",
       "</tr>\n",
       "<tr>\n",
       "  <th>female_prod</th> <td>    0.0061</td> <td>    0.005</td> <td>    1.281</td> <td> 0.200</td> <td>   -0.003</td> <td>    0.015</td>\n",
       "</tr>\n",
       "<tr>\n",
       "  <th>tenure</th>      <td>    0.0286</td> <td>    0.001</td> <td>   28.835</td> <td> 0.000</td> <td>    0.027</td> <td>    0.031</td>\n",
       "</tr>\n",
       "</table>\n",
       "<table class=\"simpletable\">\n",
       "<tr>\n",
       "  <th>Omnibus:</th>       <td>260.159</td> <th>  Durbin-Watson:     </th> <td>   0.167</td>\n",
       "</tr>\n",
       "<tr>\n",
       "  <th>Prob(Omnibus):</th> <td> 0.000</td>  <th>  Jarque-Bera (JB):  </th> <td> 282.097</td>\n",
       "</tr>\n",
       "<tr>\n",
       "  <th>Skew:</th>          <td> 0.513</td>  <th>  Prob(JB):          </th> <td>5.54e-62</td>\n",
       "</tr>\n",
       "<tr>\n",
       "  <th>Kurtosis:</th>      <td> 2.727</td>  <th>  Cond. No.          </th> <td>1.04e+03</td>\n",
       "</tr>\n",
       "</table><br/><br/>Notes:<br/>[1] Standard Errors are heteroscedasticity robust (HC3)<br/>[2] The condition number is large, 1.04e+03. This might indicate that there are<br/>strong multicollinearity or other numerical problems."
      ],
      "text/plain": [
       "<class 'statsmodels.iolib.summary.Summary'>\n",
       "\"\"\"\n",
       "                            OLS Regression Results                            \n",
       "==============================================================================\n",
       "Dep. Variable:                    pay   R-squared:                       0.175\n",
       "Model:                            OLS   Adj. R-squared:                  0.175\n",
       "Method:                 Least Squares   F-statistic:                     329.5\n",
       "Date:                Tue, 06 Feb 2024   Prob (F-statistic):          9.82e-257\n",
       "Time:                        15:54:20   Log-Likelihood:                -12774.\n",
       "No. Observations:                6014   AIC:                         2.556e+04\n",
       "Df Residuals:                    6009   BIC:                         2.559e+04\n",
       "Df Model:                           4                                         \n",
       "Covariance Type:                  HC3                                         \n",
       "===============================================================================\n",
       "                  coef    std err          z      P>|z|      [0.025      0.975]\n",
       "-------------------------------------------------------------------------------\n",
       "const          16.3008      0.212     76.884      0.000      15.885      16.716\n",
       "prod            0.0130      0.003      3.799      0.000       0.006       0.020\n",
       "female         -0.7211      0.293     -2.458      0.014      -1.296      -0.146\n",
       "female_prod     0.0061      0.005      1.281      0.200      -0.003       0.015\n",
       "tenure          0.0286      0.001     28.835      0.000       0.027       0.031\n",
       "==============================================================================\n",
       "Omnibus:                      260.159   Durbin-Watson:                   0.167\n",
       "Prob(Omnibus):                  0.000   Jarque-Bera (JB):              282.097\n",
       "Skew:                           0.513   Prob(JB):                     5.54e-62\n",
       "Kurtosis:                       2.727   Cond. No.                     1.04e+03\n",
       "==============================================================================\n",
       "\n",
       "Notes:\n",
       "[1] Standard Errors are heteroscedasticity robust (HC3)\n",
       "[2] The condition number is large, 1.04e+03. This might indicate that there are\n",
       "strong multicollinearity or other numerical problems.\n",
       "\"\"\""
      ]
     },
     "execution_count": 13,
     "metadata": {},
     "output_type": "execute_result"
    }
   ],
   "source": [
    "X = df[['prod', 'female', 'female_prod', 'tenure']]\n",
    "y = df['pay']\n",
    "\n",
    "X = sm.add_constant(X)\n",
    "\n",
    "model = sm.OLS(y,X)\n",
    "results = model.fit(cov_type='HC3') # robust\n",
    "\n",
    "results.summary()"
   ]
  },
  {
   "cell_type": "markdown",
   "id": "17fc927d",
   "metadata": {},
   "source": [
    "(b) What is the interpretation of the coefficient on productivity?\n",
    "\n",
    "A one unit increase in productivity is estimated to have a \\$0.01 increase in pay on average, assuming ceterus paribus.\n",
    "\n",
    "(c) What is the interpretation of the coefficient on female?\n",
    "\n",
    "Being female is estimated to have a \\$1.08 decrease in pay on average, assuming ceterus paribus.\n",
    "\n",
    "(d) What is the interpretation of the coefficient on the interaction term?\n",
    "\n",
    "The coefficient is positive, suggesting that the effect of productivity on pay increases for women compared to men.\n",
    "\n",
    "(e) Can you reject the two-sided null hypothesis that there is no additional effect of productivity on pay for women at the 5% level?\n",
    "\n",
    "No, we fail to reject => no statistically significant additional effect"
   ]
  }
 ],
 "metadata": {
  "kernelspec": {
   "display_name": "Python 3 (ipykernel)",
   "language": "python",
   "name": "python3"
  },
  "language_info": {
   "codemirror_mode": {
    "name": "ipython",
    "version": 3
   },
   "file_extension": ".py",
   "mimetype": "text/x-python",
   "name": "python",
   "nbconvert_exporter": "python",
   "pygments_lexer": "ipython3",
   "version": "3.10.9"
  }
 },
 "nbformat": 4,
 "nbformat_minor": 5
}
